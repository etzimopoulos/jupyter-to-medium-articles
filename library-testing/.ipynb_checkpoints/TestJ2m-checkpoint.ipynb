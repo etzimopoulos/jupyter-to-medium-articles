{
 "cells": [
  {
   "cell_type": "markdown",
   "metadata": {},
   "source": [
    "# How to turn your Jupyter notebook to a Medium article in one Click\n",
    "\n",
    "![](Logos.png \"Title\")"
   ]
  },
  {
   "cell_type": "markdown",
   "metadata": {},
   "source": [
    "\n",
    "## Introduction\n",
    "For those of you who have been using Jupyter notebook to document in detail your Machine Learning models and experiments with Data Science you'll find this feature very useful.\n",
    "\n",
    "I have tried myself to publish notebooks by re-writing content specifically for Medium by editing images, importing, sorting out format etc... and it's very tedious process that takes attention and time away from developing the notebooks themselves.\n",
    "\n",
    "## Step 1 - Get the Library\n",
    "Luckily @Ted Petrou has published a library that can do that in one Click, and guess its name:\"jupyter-to-medium\". \n",
    "\n",
    "To install, run the following command under your Linux shell:"
   ]
  },
  {
   "cell_type": "markdown",
   "metadata": {},
   "source": [
    "<code>pip install jupyter-to-medium</code>"
   ]
  },
  {
   "cell_type": "markdown",
   "metadata": {},
   "source": [
    "## Step 2 - Medium Integration Token"
   ]
  },
  {
   "cell_type": "markdown",
   "metadata": {},
   "source": [
    "To start with, you need to get an integration token from Medium. Go to your settings and select \"Integration tokens\" section. From there you can self-issue a token and give it a description as per screenshot below:"
   ]
  },
  {
   "cell_type": "markdown",
   "metadata": {},
   "source": [
    "![](IntegrationToken.png \"Title\")"
   ]
  },
  {
   "cell_type": "markdown",
   "metadata": {},
   "source": [
    "This is the so called \"Self-issued\" access tokens, which is described below in detail (taken from Medium's API documentation https://github.com/Medium/medium-api-docs):"
   ]
  },
  {
   "cell_type": "markdown",
   "metadata": {},
   "source": [
    "<i> **Self-issued** access tokens (described in user-facing copy as integration tokens) are explicitly designed for desktop integrations where implementing browser-based authentication is non-trivial, or software like plugins where it is impossible to secure a client secret. You should not request that a user give you an integration token if you don’t meet these criteria. Users will be cautioned within Medium to treat integration tokens like passwords, and dissuaded from making them generally available.\n",
    "\n",
    "Users can request an access token by emailing yourfriends@medium.com. We will then grant access on the Settings page of their Medium account.\n",
    "\n",
    "You should instruct your user to visit this URL and generate an integration token from the Integration Tokens section. You should suggest a description for this token - typically the name of your product or feature - and use it consistently for all users.\n",
    "\n",
    "Self-issued access tokens do not expire, though they may be revoked by the user at any time.</i>"
   ]
  },
  {
   "cell_type": "markdown",
   "metadata": {},
   "source": [
    "Alternatively, you can check the same page on **Browser based** authentication to do it programatically"
   ]
  },
  {
   "cell_type": "markdown",
   "metadata": {},
   "source": [
    "### Save your token\n",
    "Once you've generated the token, it needs to be saved locally under the following folder in your home directory:\n"
   ]
  },
  {
   "cell_type": "markdown",
   "metadata": {},
   "source": [
    "<code>.jupyter_to_medium/integration_token </code>"
   ]
  },
  {
   "cell_type": "markdown",
   "metadata": {},
   "source": [
    "## Step 3 - Publish via Notebook "
   ]
  },
  {
   "cell_type": "markdown",
   "metadata": {},
   "source": [
    "Once you've completed your work, navigate to the the menu <code>File --> Deploy as --> Medium Post </code>:"
   ]
  },
  {
   "cell_type": "markdown",
   "metadata": {},
   "source": [
    "![](PublishToMedium.png \"Title\")"
   ]
  },
  {
   "cell_type": "markdown",
   "metadata": {},
   "source": [
    "\n",
    "\n",
    "This will launch a new tab in your browser with the following screen at Medium website:"
   ]
  },
  {
   "cell_type": "markdown",
   "metadata": {},
   "source": [
    "![](MediumDraft.png \"Title\")\n",
    "<br>"
   ]
  },
  {
   "cell_type": "markdown",
   "metadata": {},
   "source": [
    "As per instructions, you don't have to manually enter the token if you've taken Step 2 above. You only need to change the Title and hit publish to turn your notebook into a Draft publication to Medium.\n",
    "\n",
    "Once you've done that, you'll get a confirmation message and a link to navigate to your post:"
   ]
  },
  {
   "cell_type": "markdown",
   "metadata": {},
   "source": [
    "![](confirmation.png \"Title\")\n",
    "<br>"
   ]
  },
  {
   "cell_type": "code",
   "execution_count": null,
   "metadata": {},
   "outputs": [],
   "source": []
  },
  {
   "cell_type": "markdown",
   "metadata": {},
   "source": [
    "## Step 4 - Linear Regression Example\n",
    "In the example below, we will:\n",
    "* Create a sample regression line based on a linear equation y = aX + b\n",
    "* Generate sample X and y by adding noise to simulate a sample dataset of X,y pairs\n",
    "* Store the dataset into a Pandas datafre\n",
    "* Plot the regression line and the sampled population"
   ]
  },
  {
   "cell_type": "code",
   "execution_count": 1,
   "metadata": {},
   "outputs": [],
   "source": [
    "import numpy as np\n",
    "import pandas as pd\n",
    "from numpy import array\n",
    "#from numpy.linalg import inv\n",
    "from matplotlib import pyplot as plt\n",
    "#from scipy import stats"
   ]
  },
  {
   "cell_type": "code",
   "execution_count": 2,
   "metadata": {},
   "outputs": [
    {
     "data": {
      "text/html": [
       "<div>\n",
       "<style scoped>\n",
       "    .dataframe tbody tr th:only-of-type {\n",
       "        vertical-align: middle;\n",
       "    }\n",
       "\n",
       "    .dataframe tbody tr th {\n",
       "        vertical-align: top;\n",
       "    }\n",
       "\n",
       "    .dataframe thead th {\n",
       "        text-align: right;\n",
       "    }\n",
       "</style>\n",
       "<table border=\"1\" class=\"dataframe\">\n",
       "  <thead>\n",
       "    <tr style=\"text-align: right;\">\n",
       "      <th></th>\n",
       "      <th>X</th>\n",
       "      <th>y</th>\n",
       "      <th>RegL</th>\n",
       "    </tr>\n",
       "  </thead>\n",
       "  <tbody>\n",
       "    <tr>\n",
       "      <th>0</th>\n",
       "      <td>-2.952163</td>\n",
       "      <td>0.340504</td>\n",
       "      <td>1.466743</td>\n",
       "    </tr>\n",
       "    <tr>\n",
       "      <th>1</th>\n",
       "      <td>3.478478</td>\n",
       "      <td>2.319879</td>\n",
       "      <td>3.717467</td>\n",
       "    </tr>\n",
       "    <tr>\n",
       "      <th>2</th>\n",
       "      <td>2.388185</td>\n",
       "      <td>4.728305</td>\n",
       "      <td>3.335865</td>\n",
       "    </tr>\n",
       "    <tr>\n",
       "      <th>3</th>\n",
       "      <td>7.003313</td>\n",
       "      <td>4.790200</td>\n",
       "      <td>4.951160</td>\n",
       "    </tr>\n",
       "    <tr>\n",
       "      <th>4</th>\n",
       "      <td>6.531180</td>\n",
       "      <td>4.083453</td>\n",
       "      <td>4.785913</td>\n",
       "    </tr>\n",
       "  </tbody>\n",
       "</table>\n",
       "</div>"
      ],
      "text/plain": [
       "          X         y      RegL\n",
       "0 -2.952163  0.340504  1.466743\n",
       "1  3.478478  2.319879  3.717467\n",
       "2  2.388185  4.728305  3.335865\n",
       "3  7.003313  4.790200  4.951160\n",
       "4  6.531180  4.083453  4.785913"
      ]
     },
     "execution_count": 2,
     "metadata": {},
     "output_type": "execute_result"
    }
   ],
   "source": [
    "# Number of Samples\n",
    "n = 100\n",
    "\n",
    "# Create r and r1, random vectors of 100 numbers each with mean = 0 and standard deviation = 1\n",
    "r = np.random.randn(n)\n",
    "r1 = np.random.randn(n)\n",
    "\n",
    "# Create random Input vector X using r\n",
    "# mean = 3\n",
    "# stddev = 2\n",
    "X = 3 * r + 2\n",
    "\n",
    "# Create random Residual term Res using r\n",
    "# mean = 0\n",
    "# stddev = 0.8\n",
    "res = 0.8 * r1 \n",
    "\n",
    "# Generate Y values based on the simulated regression line and error/noise\n",
    "# Population Regression Line\n",
    "yreg = 2.5 + 0.35 * X \n",
    "# Adding noise/error\n",
    "y = yreg + res                  \n",
    "\n",
    "# Storing Population Regression Line \"RegL\", data points X and y in a data frame\n",
    "rl = pd.DataFrame(\n",
    "    {'X': X,\n",
    "     'y': y,\n",
    "     'RegL':yreg}\n",
    ")\n",
    "\n",
    "# Show the first five rows of our dataframe\n",
    "rl.head()"
   ]
  },
  {
   "cell_type": "code",
   "execution_count": 3,
   "metadata": {},
   "outputs": [
    {
     "data": {
      "image/png": "[encoded data removed]",
      "text/plain": [
       "<Figure size 864x432 with 1 Axes>"
      ]
     },
     "metadata": {
      "needs_background": "light"
     },
     "output_type": "display_data"
    }
   ],
   "source": [
    "# Plot regression against actual data\n",
    "plt.figure(figsize=(12, 6))\n",
    "# Population Regression Line\n",
    "plt.plot(X,rl['RegL'], label = 'Actual (Population Regression Line)',color='green')\n",
    "# Least squares line\n",
    "#plt.plot(X, ypred, label = 'Predicted (Least Squares Line)', color='blue')     \n",
    "# scatter plot showing actual data\n",
    "plt.plot(X, y, 'ro', label ='Collected data')   \n",
    "plt.title('Actual vs Predicted')\n",
    "plt.xlabel('X')\n",
    "plt.ylabel('y')\n",
    "plt.legend()\n",
    "plt.show()"
   ]
  },
  {
   "cell_type": "code",
   "execution_count": null,
   "metadata": {},
   "outputs": [],
   "source": []
  },
  {
   "cell_type": "markdown",
   "metadata": {},
   "source": [
    "## Step 5 - Publish on Medium\n",
    "Once you've published a draft on Medium, you can edit and make changes as required but essentially, all the pictures, gifs, dataframes and plots should be automatically tranfered without the need to manually do this again.\n",
    "\n",
    "## References\n",
    "Original Medium article by @Ted Petrou - https://medium.com/dunder-data/jupyter-to-medium-initial-post-ecd140d339f0"
   ]
  },
  {
   "cell_type": "code",
   "execution_count": null,
   "metadata": {},
   "outputs": [],
   "source": []
  },
  {
   "cell_type": "code",
   "execution_count": null,
   "metadata": {},
   "outputs": [],
   "source": []
  },
  {
   "cell_type": "code",
   "execution_count": null,
   "metadata": {},
   "outputs": [],
   "source": []
  }
 ],
 "metadata": {
  "kernelspec": {
   "display_name": "Python 3",
   "language": "python",
   "name": "python3"
  },
  "language_info": {
   "codemirror_mode": {
    "name": "ipython",
    "version": 3
   },
   "file_extension": ".py",
   "mimetype": "text/x-python",
   "name": "python",
   "nbconvert_exporter": "python",
   "pygments_lexer": "ipython3",
   "version": "3.7.6"
  }
 },
 "nbformat": 4,
 "nbformat_minor": 4
}
