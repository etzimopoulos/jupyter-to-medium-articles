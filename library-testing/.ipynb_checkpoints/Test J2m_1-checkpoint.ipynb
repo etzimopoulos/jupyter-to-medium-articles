{
 "cells": [
  {
   "cell_type": "markdown",
   "metadata": {},
   "source": [
    "# How to turn your Jupyter notebook to a Medium article in one Click\n",
    "\n",
    "<div>\n",
    "    <img src=\"Logos.png\" style=\"float: left; height: 200px; padding-right:0.8em\">\n",
    "</div>\n",
    " \n",
    "<br>\n"
   ]
  },
  {
   "cell_type": "markdown",
   "metadata": {},
   "source": [
    "\n",
    "## Introduction\n",
    "For those of you who have been using Jupyter notebook to document in detail your Machine Learning models and experiments with Data Science you'll find this feature very useful.\n",
    "\n",
    "I have tried myself to publish notebooks by re-writing content specifically for Medium by editing images, importing, sorting out format etc... and it's very tedious process that takes attention and time away from developing the notebooks themselves.\n",
    "\n",
    "## Step 1 - Get the Library\n",
    "Luckily @Ted Petrou has published a library that can do that in one Click, and guess its name:\"jupyter-to-medium\". \n",
    "\n",
    "To install, run the following command under your Linux shell:"
   ]
  },
  {
   "cell_type": "markdown",
   "metadata": {},
   "source": [
    "<code>pip install jupyter-to-medium</code>"
   ]
  },
  {
   "cell_type": "markdown",
   "metadata": {},
   "source": [
    "## Step 2 - Medium Integration Token"
   ]
  },
  {
   "cell_type": "markdown",
   "metadata": {},
   "source": [
    "To start with, you need to get an integration token from Medium. Go to your settings and select \"Integration tokens\" section. From there you can self-issue a token and give it a description as per screenshot below:"
   ]
  },
  {
   "cell_type": "markdown",
   "metadata": {},
   "source": [
    "This is the so called \"Self-issued\" access tokens, which is described below in detail (taken from Medium's API documentation https://github.com/Medium/medium-api-docs):"
   ]
  },
  {
   "cell_type": "code",
   "execution_count": null,
   "metadata": {},
   "outputs": [],
   "source": []
  }
 ],
 "metadata": {
  "kernelspec": {
   "display_name": "Python 3",
   "language": "python",
   "name": "python3"
  },
  "language_info": {
   "codemirror_mode": {
    "name": "ipython",
    "version": 3
   },
   "file_extension": ".py",
   "mimetype": "text/x-python",
   "name": "python",
   "nbconvert_exporter": "python",
   "pygments_lexer": "ipython3",
   "version": "3.7.6"
  }
 },
 "nbformat": 4,
 "nbformat_minor": 4
}
