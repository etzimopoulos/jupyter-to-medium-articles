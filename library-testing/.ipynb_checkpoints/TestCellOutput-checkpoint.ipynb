{
 "cells": [
  {
   "cell_type": "markdown",
   "metadata": {},
   "source": [
    "# How to turn your Jupyter notebook to a Medium article in one Click\n"
   ]
  },
  {
   "cell_type": "code",
   "execution_count": 1,
   "metadata": {},
   "outputs": [],
   "source": [
    "import numpy as np\n",
    "import pandas as pd\n",
    "from numpy import array\n",
    "from matplotlib import pyplot as plt\n",
    "import six"
   ]
  },
  {
   "cell_type": "code",
   "execution_count": 2,
   "metadata": {},
   "outputs": [],
   "source": [
    "import bar_chart_race as bcr\n",
    "df = bcr.load_dataset('covid19')\n",
    "df = df.iloc[-15:-10, ::3]\n",
    "#df.index"
   ]
  },
  {
   "cell_type": "code",
   "execution_count": 3,
   "metadata": {},
   "outputs": [
    {
     "data": {
      "text/html": [
       "<style  type=\"text/css\" >\n",
       "    #T_4ceba2d8_aad8_11ea_82c6_a9510dbfc252row3_col1 {\n",
       "            background-color:  yellow;\n",
       "        }    #T_4ceba2d8_aad8_11ea_82c6_a9510dbfc252row4_col0 {\n",
       "            background-color:  yellow;\n",
       "        }    #T_4ceba2d8_aad8_11ea_82c6_a9510dbfc252row4_col1 {\n",
       "            background-color:  yellow;\n",
       "        }    #T_4ceba2d8_aad8_11ea_82c6_a9510dbfc252row4_col2 {\n",
       "            background-color:  yellow;\n",
       "        }    #T_4ceba2d8_aad8_11ea_82c6_a9510dbfc252row4_col3 {\n",
       "            background-color:  yellow;\n",
       "        }    #T_4ceba2d8_aad8_11ea_82c6_a9510dbfc252row4_col4 {\n",
       "            background-color:  yellow;\n",
       "        }    #T_4ceba2d8_aad8_11ea_82c6_a9510dbfc252row4_col5 {\n",
       "            background-color:  yellow;\n",
       "        }    #T_4ceba2d8_aad8_11ea_82c6_a9510dbfc252row4_col6 {\n",
       "            background-color:  yellow;\n",
       "        }</style><table id=\"T_4ceba2d8_aad8_11ea_82c6_a9510dbfc252\" ><thead>    <tr>        <th class=\"blank level0\" ></th>        <th class=\"col_heading level0 col0\" >Belgium</th>        <th class=\"col_heading level0 col1\" >China</th>        <th class=\"col_heading level0 col2\" >India</th>        <th class=\"col_heading level0 col3\" >Ireland</th>        <th class=\"col_heading level0 col4\" >Netherlands</th>        <th class=\"col_heading level0 col5\" >Sweden</th>        <th class=\"col_heading level0 col6\" >USA</th>    </tr>    <tr>        <th class=\"index_name level0\" >date</th>        <th class=\"blank\" ></th>        <th class=\"blank\" ></th>        <th class=\"blank\" ></th>        <th class=\"blank\" ></th>        <th class=\"blank\" ></th>        <th class=\"blank\" ></th>        <th class=\"blank\" ></th>    </tr></thead><tbody>\n",
       "                <tr>\n",
       "                        <th id=\"T_4ceba2d8_aad8_11ea_82c6_a9510dbfc252level0_row0\" class=\"row_heading level0 row0\" >2020-04-08 00:00:00</th>\n",
       "                        <td id=\"T_4ceba2d8_aad8_11ea_82c6_a9510dbfc252row0_col0\" class=\"data row0 col0\" >2240.000000</td>\n",
       "                        <td id=\"T_4ceba2d8_aad8_11ea_82c6_a9510dbfc252row0_col1\" class=\"data row0 col1\" >3337.000000</td>\n",
       "                        <td id=\"T_4ceba2d8_aad8_11ea_82c6_a9510dbfc252row0_col2\" class=\"data row0 col2\" >178.000000</td>\n",
       "                        <td id=\"T_4ceba2d8_aad8_11ea_82c6_a9510dbfc252row0_col3\" class=\"data row0 col3\" >235.000000</td>\n",
       "                        <td id=\"T_4ceba2d8_aad8_11ea_82c6_a9510dbfc252row0_col4\" class=\"data row0 col4\" >2255.000000</td>\n",
       "                        <td id=\"T_4ceba2d8_aad8_11ea_82c6_a9510dbfc252row0_col5\" class=\"data row0 col5\" >687.000000</td>\n",
       "                        <td id=\"T_4ceba2d8_aad8_11ea_82c6_a9510dbfc252row0_col6\" class=\"data row0 col6\" >14704.000000</td>\n",
       "            </tr>\n",
       "            <tr>\n",
       "                        <th id=\"T_4ceba2d8_aad8_11ea_82c6_a9510dbfc252level0_row1\" class=\"row_heading level0 row1\" >2020-04-09 00:00:00</th>\n",
       "                        <td id=\"T_4ceba2d8_aad8_11ea_82c6_a9510dbfc252row1_col0\" class=\"data row1 col0\" >2523.000000</td>\n",
       "                        <td id=\"T_4ceba2d8_aad8_11ea_82c6_a9510dbfc252row1_col1\" class=\"data row1 col1\" >3339.000000</td>\n",
       "                        <td id=\"T_4ceba2d8_aad8_11ea_82c6_a9510dbfc252row1_col2\" class=\"data row1 col2\" >226.000000</td>\n",
       "                        <td id=\"T_4ceba2d8_aad8_11ea_82c6_a9510dbfc252row1_col3\" class=\"data row1 col3\" >263.000000</td>\n",
       "                        <td id=\"T_4ceba2d8_aad8_11ea_82c6_a9510dbfc252row1_col4\" class=\"data row1 col4\" >2403.000000</td>\n",
       "                        <td id=\"T_4ceba2d8_aad8_11ea_82c6_a9510dbfc252row1_col5\" class=\"data row1 col5\" >793.000000</td>\n",
       "                        <td id=\"T_4ceba2d8_aad8_11ea_82c6_a9510dbfc252row1_col6\" class=\"data row1 col6\" >16553.000000</td>\n",
       "            </tr>\n",
       "            <tr>\n",
       "                        <th id=\"T_4ceba2d8_aad8_11ea_82c6_a9510dbfc252level0_row2\" class=\"row_heading level0 row2\" >2020-04-10 00:00:00</th>\n",
       "                        <td id=\"T_4ceba2d8_aad8_11ea_82c6_a9510dbfc252row2_col0\" class=\"data row2 col0\" >3019.000000</td>\n",
       "                        <td id=\"T_4ceba2d8_aad8_11ea_82c6_a9510dbfc252row2_col1\" class=\"data row2 col1\" >3340.000000</td>\n",
       "                        <td id=\"T_4ceba2d8_aad8_11ea_82c6_a9510dbfc252row2_col2\" class=\"data row2 col2\" >246.000000</td>\n",
       "                        <td id=\"T_4ceba2d8_aad8_11ea_82c6_a9510dbfc252row2_col3\" class=\"data row2 col3\" >287.000000</td>\n",
       "                        <td id=\"T_4ceba2d8_aad8_11ea_82c6_a9510dbfc252row2_col4\" class=\"data row2 col4\" >2520.000000</td>\n",
       "                        <td id=\"T_4ceba2d8_aad8_11ea_82c6_a9510dbfc252row2_col5\" class=\"data row2 col5\" >870.000000</td>\n",
       "                        <td id=\"T_4ceba2d8_aad8_11ea_82c6_a9510dbfc252row2_col6\" class=\"data row2 col6\" >18595.000000</td>\n",
       "            </tr>\n",
       "            <tr>\n",
       "                        <th id=\"T_4ceba2d8_aad8_11ea_82c6_a9510dbfc252level0_row3\" class=\"row_heading level0 row3\" >2020-04-11 00:00:00</th>\n",
       "                        <td id=\"T_4ceba2d8_aad8_11ea_82c6_a9510dbfc252row3_col0\" class=\"data row3 col0\" >3346.000000</td>\n",
       "                        <td id=\"T_4ceba2d8_aad8_11ea_82c6_a9510dbfc252row3_col1\" class=\"data row3 col1\" >3343.000000</td>\n",
       "                        <td id=\"T_4ceba2d8_aad8_11ea_82c6_a9510dbfc252row3_col2\" class=\"data row3 col2\" >288.000000</td>\n",
       "                        <td id=\"T_4ceba2d8_aad8_11ea_82c6_a9510dbfc252row3_col3\" class=\"data row3 col3\" >320.000000</td>\n",
       "                        <td id=\"T_4ceba2d8_aad8_11ea_82c6_a9510dbfc252row3_col4\" class=\"data row3 col4\" >2653.000000</td>\n",
       "                        <td id=\"T_4ceba2d8_aad8_11ea_82c6_a9510dbfc252row3_col5\" class=\"data row3 col5\" >887.000000</td>\n",
       "                        <td id=\"T_4ceba2d8_aad8_11ea_82c6_a9510dbfc252row3_col6\" class=\"data row3 col6\" >20471.000000</td>\n",
       "            </tr>\n",
       "            <tr>\n",
       "                        <th id=\"T_4ceba2d8_aad8_11ea_82c6_a9510dbfc252level0_row4\" class=\"row_heading level0 row4\" >2020-04-12 00:00:00</th>\n",
       "                        <td id=\"T_4ceba2d8_aad8_11ea_82c6_a9510dbfc252row4_col0\" class=\"data row4 col0\" >3600.000000</td>\n",
       "                        <td id=\"T_4ceba2d8_aad8_11ea_82c6_a9510dbfc252row4_col1\" class=\"data row4 col1\" >3343.000000</td>\n",
       "                        <td id=\"T_4ceba2d8_aad8_11ea_82c6_a9510dbfc252row4_col2\" class=\"data row4 col2\" >331.000000</td>\n",
       "                        <td id=\"T_4ceba2d8_aad8_11ea_82c6_a9510dbfc252row4_col3\" class=\"data row4 col3\" >334.000000</td>\n",
       "                        <td id=\"T_4ceba2d8_aad8_11ea_82c6_a9510dbfc252row4_col4\" class=\"data row4 col4\" >2747.000000</td>\n",
       "                        <td id=\"T_4ceba2d8_aad8_11ea_82c6_a9510dbfc252row4_col5\" class=\"data row4 col5\" >899.000000</td>\n",
       "                        <td id=\"T_4ceba2d8_aad8_11ea_82c6_a9510dbfc252row4_col6\" class=\"data row4 col6\" >22032.000000</td>\n",
       "            </tr>\n",
       "    </tbody></table>"
      ],
      "text/plain": [
       "<pandas.io.formats.style.Styler at 0x7f0f7fdffcd0>"
      ]
     },
     "execution_count": 3,
     "metadata": {},
     "output_type": "execute_result"
    }
   ],
   "source": [
    "df.style.highlight_max()"
   ]
  },
  {
   "cell_type": "code",
   "execution_count": 4,
   "metadata": {},
   "outputs": [],
   "source": [
    "def render_mpl_table(data, col_width=3.0, row_height=0.625, font_size=14,\n",
    "                     header_color='#40466e', row_colors=['#f1f1f2', 'w'], edge_color='w',\n",
    "                     bbox=[0, 0, 1, 1], header_columns=0,\n",
    "                     ax=None, **kwargs):\n",
    "    if ax is None:\n",
    "        size = (np.array(data.shape[::-1]) + np.array([0, 1])) * np.array([col_width, row_height])\n",
    "        fig, ax = plt.subplots(figsize=size)\n",
    "        ax.axis('off')\n",
    "\n",
    "    mpl_table = ax.table(cellText=data.values, bbox=bbox, colLabels=data.columns, **kwargs)\n",
    "\n",
    "    mpl_table.auto_set_font_size(False)\n",
    "    mpl_table.set_fontsize(font_size)\n",
    "\n",
    "    for k, cell in six.iteritems(mpl_table._cells):\n",
    "        cell.set_edgecolor(edge_color)\n",
    "        if k[0] == 0 or k[1] < header_columns:\n",
    "            cell.set_text_props(weight='bold', color='w')\n",
    "            cell.set_facecolor(header_color)\n",
    "        else:\n",
    "            cell.set_facecolor(row_colors[k[0]%len(row_colors) ])\n",
    "    return ax\n",
    "\n"
   ]
  },
  {
   "cell_type": "code",
   "execution_count": 5,
   "metadata": {},
   "outputs": [],
   "source": [
    "#render_mpl_table(df, header_columns=0, col_width=2.0);\n",
    "#plt.savefig('table.png')"
   ]
  },
  {
   "cell_type": "markdown",
   "metadata": {},
   "source": [
    "import matplotlib.pyplot as plt\n",
    "import pandas as pd\n",
    "from pandas.plotting import table # EDIT: see deprecation warnings below\n",
    "\n",
    "ax = plt.subplot(1,1,1, frame_on=False) # no visible frame\n",
    "#ax = plt.plot(frame_on=False)\n",
    "ax.xaxis.set_visible(False)  # hide the x axis\n",
    "ax.yaxis.set_visible(False)  # hide the y axis\n",
    "\n",
    "table(ax, df)  # where df is your data frame\n",
    "\n",
    "plt.savefig('mytable.png')"
   ]
  },
  {
   "cell_type": "markdown",
   "metadata": {},
   "source": [
    "import matplotlib.pyplot as plt\n",
    "#fig, ax = plt.subplots(figsize=(4, 2.5), dpi=144)\n",
    "ax1 = plt.subplot(1,1,1, frameon=False) # no visible frame\n",
    "ax1.xaxis.set_visible(False)  # hide the x axis\n",
    "ax1.yaxis.set_visible(False)  # hide the y axis\n",
    "\n",
    "df.loc['2020-04-12'].sort_values().plot(kind='barh', ax=ax1, width=.8);\n",
    "\n",
    "\n",
    "#table(ax1, df.loc['2020-04-12'].sort_values())  # where df is your data frame\n",
    "\n",
    "plt.savefig('barchart.png')"
   ]
  },
  {
   "cell_type": "code",
   "execution_count": null,
   "metadata": {},
   "outputs": [],
   "source": [
    "\n"
   ]
  },
  {
   "cell_type": "code",
   "execution_count": 6,
   "metadata": {},
   "outputs": [
    {
     "data": {
      "text/html": [
       "<div>\n",
       "<style scoped>\n",
       "    .dataframe tbody tr th:only-of-type {\n",
       "        vertical-align: middle;\n",
       "    }\n",
       "\n",
       "    .dataframe tbody tr th {\n",
       "        vertical-align: top;\n",
       "    }\n",
       "\n",
       "    .dataframe thead th {\n",
       "        text-align: right;\n",
       "    }\n",
       "</style>\n",
       "<table border=\"1\" class=\"dataframe\">\n",
       "  <thead>\n",
       "    <tr style=\"text-align: right;\">\n",
       "      <th></th>\n",
       "      <th>X</th>\n",
       "      <th>y</th>\n",
       "      <th>RegL</th>\n",
       "    </tr>\n",
       "  </thead>\n",
       "  <tbody>\n",
       "    <tr>\n",
       "      <th>0</th>\n",
       "      <td>9.050258</td>\n",
       "      <td>5.926394</td>\n",
       "      <td>5.667590</td>\n",
       "    </tr>\n",
       "    <tr>\n",
       "      <th>1</th>\n",
       "      <td>3.813895</td>\n",
       "      <td>4.305853</td>\n",
       "      <td>3.834863</td>\n",
       "    </tr>\n",
       "    <tr>\n",
       "      <th>2</th>\n",
       "      <td>3.112481</td>\n",
       "      <td>3.523692</td>\n",
       "      <td>3.589368</td>\n",
       "    </tr>\n",
       "    <tr>\n",
       "      <th>3</th>\n",
       "      <td>-1.335917</td>\n",
       "      <td>3.114350</td>\n",
       "      <td>2.032429</td>\n",
       "    </tr>\n",
       "    <tr>\n",
       "      <th>4</th>\n",
       "      <td>0.269538</td>\n",
       "      <td>1.644834</td>\n",
       "      <td>2.594338</td>\n",
       "    </tr>\n",
       "  </tbody>\n",
       "</table>\n",
       "</div>"
      ],
      "text/plain": [
       "          X         y      RegL\n",
       "0  9.050258  5.926394  5.667590\n",
       "1  3.813895  4.305853  3.834863\n",
       "2  3.112481  3.523692  3.589368\n",
       "3 -1.335917  3.114350  2.032429\n",
       "4  0.269538  1.644834  2.594338"
      ]
     },
     "execution_count": 6,
     "metadata": {},
     "output_type": "execute_result"
    }
   ],
   "source": [
    "# Number of Samples\n",
    "n = 100\n",
    "\n",
    "# Create r and r1, random vectors of 100 numbers each with mean = 0 and standard deviation = 1\n",
    "r = np.random.randn(n)\n",
    "r1 = np.random.randn(n)\n",
    "\n",
    "# Create random Input vector X using r\n",
    "# mean = 3\n",
    "# stddev = 2\n",
    "X = 3 * r + 2\n",
    "\n",
    "# Create random Residual term Res using r\n",
    "# mean = 0\n",
    "# stddev = 0.8\n",
    "res = 0.8 * r1 \n",
    "\n",
    "# Generate Y values based on the simulated regression line and error/noise\n",
    "# Population Regression Line\n",
    "yreg = 2.5 + 0.35 * X \n",
    "# Adding noise/error\n",
    "y = yreg + res                  \n",
    "\n",
    "# Storing Population Regression Line \"RegL\", data points X and y in a data frame\n",
    "rl = pd.DataFrame(\n",
    "    {'X': X,\n",
    "     'y': y,\n",
    "     'RegL':yreg}\n",
    ")\n",
    "\n",
    "# Show the first five rows of our dataframe\n",
    "rl.head()"
   ]
  },
  {
   "cell_type": "code",
   "execution_count": null,
   "metadata": {},
   "outputs": [],
   "source": []
  },
  {
   "cell_type": "code",
   "execution_count": 7,
   "metadata": {},
   "outputs": [],
   "source": [
    "#render_mpl_table(rl.head(), header_columns=0, col_width=5.0);\n",
    "#plt.savefig('LinRegSamples.png')"
   ]
  },
  {
   "cell_type": "code",
   "execution_count": null,
   "metadata": {},
   "outputs": [],
   "source": []
  },
  {
   "cell_type": "code",
   "execution_count": 8,
   "metadata": {},
   "outputs": [
    {
     "data": {
      "image/png": "[encoded data removed]",
      "text/plain": [
       "<Figure size 864x432 with 1 Axes>"
      ]
     },
     "metadata": {
      "needs_background": "light"
     },
     "output_type": "display_data"
    }
   ],
   "source": [
    "# Plot regression against actual data\n",
    "plt.figure(figsize=(12, 6))\n",
    "# Population Regression Line\n",
    "plt.plot(X,rl['RegL'], label = 'Actual (Population Regression Line)',color='green')\n",
    "# Least squares line\n",
    "#plt.plot(X, ypred, label = 'Predicted (Least Squares Line)', color='blue')     \n",
    "# scatter plot showing actual data\n",
    "plt.plot(X, y, 'ro', label ='Collected data')   \n",
    "plt.title('Actual vs Predicted')\n",
    "plt.xlabel('X')\n",
    "plt.ylabel('y')\n",
    "plt.legend()\n",
    "plt.show()\n",
    "#plt.savefig('ActualVsPredicted.png')"
   ]
  },
  {
   "cell_type": "code",
   "execution_count": 9,
   "metadata": {},
   "outputs": [],
   "source": [
    "#import junix\n",
    "#junix.export_images(filepath=\"TestCellOutput.ipynb\")"
   ]
  },
  {
   "cell_type": "code",
   "execution_count": null,
   "metadata": {},
   "outputs": [],
   "source": []
  },
  {
   "cell_type": "code",
   "execution_count": null,
   "metadata": {},
   "outputs": [],
   "source": []
  },
  {
   "cell_type": "code",
   "execution_count": null,
   "metadata": {},
   "outputs": [],
   "source": []
  }
 ],
 "metadata": {
  "kernelspec": {
   "display_name": "Python 3",
   "language": "python",
   "name": "python3"
  },
  "language_info": {
   "codemirror_mode": {
    "name": "ipython",
    "version": 3
   },
   "file_extension": ".py",
   "mimetype": "text/x-python",
   "name": "python",
   "nbconvert_exporter": "python",
   "pygments_lexer": "ipython3",
   "version": "3.7.6"
  }
 },
 "nbformat": 4,
 "nbformat_minor": 4
}
