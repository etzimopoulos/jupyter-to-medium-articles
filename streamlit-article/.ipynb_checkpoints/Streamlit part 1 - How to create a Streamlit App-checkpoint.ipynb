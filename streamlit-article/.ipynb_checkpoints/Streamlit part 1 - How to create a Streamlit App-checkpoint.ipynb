{
 "cells": [
  {
   "cell_type": "markdown",
   "metadata": {},
   "source": [
    "![](Streamlit_logo_25.png \"Title\")\n",
    "# How to create a Streamlit App for your Machine Learning Model"
   ]
  },
  {
   "cell_type": "markdown",
   "metadata": {},
   "source": [
    "## Streamlit Series - Part I"
   ]
  },
  {
   "cell_type": "markdown",
   "metadata": {},
   "source": [
    "### Introduction\n",
    "\n",
    "I had just failed an interview! I got rejected for a role that seemed to be the perfect combo between Data Science, Analytics and Consulting and was fairly disappointing! But I decided it was not going to set me back, rather than use it as a learning step. So I was in the lookout for the next project to build my skills and show case something new, something different.When I came across Streamlit, I started looking into it as I was intrigued: \n"
   ]
  },
  {
   "cell_type": "markdown",
   "metadata": {},
   "source": [
    "`The fastest way to create Data Apps`"
   ]
  },
  {
   "cell_type": "markdown",
   "metadata": {},
   "source": [
    "Until then, I had never created an App, and from reading further about it, I soon found out I could build a Web App at no time. I thought \"Great!\" this would be the perfect project to take me to the next level! Then I thought... \"Hang on, and how do I deploy it?\" I have always liked to be prepared and plan things properly, so that got me thinking. At the time, there was no hosting capability, but that didn't stop me: with the mighty Google Search in hand, I found out I could use Docker to containerise my application, and Azure Cloud or GCP Cloud to deploy it! I was so excited: I had a good project idea and a full roadmap to implement it all the way. They say first you have to envision it and then make it happen and in that sense, it was my first step towards building my web App!\n",
    "\n"
   ]
  },
  {
   "cell_type": "markdown",
   "metadata": {},
   "source": [
    "### About Streamlit\n",
    "Streamlit is an open-source Python library that makes it easy to build and deploy Web apps for Machine Learning and Data Science projects. And I can confirm, this is definitely the case. It also has a fantastic community that supports you all the way and it's a great place to exchange ideas and solve problems if you get stuck. \n",
    "\n",
    "The company recently (June 2020) announced a $21m Series A funding! After some research, I found out that by the end of 2019 there were over 200,000 apps build by the community which saw the potential and benefits of being able to deploy models and visualising data without having to be an application developer!\n",
    "\n",
    "So here I am, to show you how I did it. Because if I can, so do you!"
   ]
  },
  {
   "cell_type": "markdown",
   "metadata": {},
   "source": [
    "### Prerequisites & libraries\n",
    "\n",
    "Before we start, lets make sure we have what we need to. \n",
    "\n",
    "What we're **NOT** going to cover in this article and will assume you have already setup in your system are:\n",
    "* Python 3.X environment (I used 3.7)\n",
    "* Familiarity with Linux command line (though should be very similar using Windows Powershell)"
   ]
  },
  {
   "cell_type": "markdown",
   "metadata": {},
   "source": [
    "#### Streamlit library\n",
    "To install the Streamlit library simply type the following using a Linux CLI:\n",
    "\n",
    "`pip install streamlit`\n"
   ]
  },
  {
   "cell_type": "markdown",
   "metadata": {},
   "source": [
    "#### Directory\n",
    "Create a directory for all your files including the main app Python script, any other supporting script files or images/files to use e.g."
   ]
  },
  {
   "cell_type": "markdown",
   "metadata": {},
   "source": [
    "```\n",
    "/myApp/\n",
    ".../images/\n",
    ".../files/\n",
    "...myApp.py\n",
    "\n",
    "```"
   ]
  },
  {
   "cell_type": "markdown",
   "metadata": {},
   "source": [
    "Note, you might not need this for a \"Hello Streamlit World\" app, but for a real Machine Learning Applications you most certainly will!"
   ]
  },
  {
   "cell_type": "markdown",
   "metadata": {},
   "source": [
    "### Hello World\n",
    "The Streamlit app is basically a Python script file which you can run by typing the following command in the running directory:\n",
    "`streamlit run [app_name]`"
   ]
  },
  {
   "cell_type": "markdown",
   "metadata": {},
   "source": [
    "To start with Streamlit, lets create a Hello World Application using the following steps:\n",
    "1. Open up your favourite IDE. I've used Spider for my app.\n",
    "2. Create a new Python script file and add the following:"
   ]
  },
  {
   "cell_type": "markdown",
   "metadata": {},
   "source": [
    "```\n",
    "# My first Streamlit App\"\n",
    "\n",
    "# Load Streamlit library\n",
    "import streamlit as st\n",
    "\n",
    "# Hello World\n",
    "st.title('Hello World')\n",
    "st.write(\"\\nThis is my first Web App, built using Streamlit!\")\n",
    "\n",
    "```"
   ]
  },
  {
   "cell_type": "markdown",
   "metadata": {},
   "source": [
    "If you save the file as `myHelloWorld.py` and run it by typing `streamlit run myHelloWorld.py` in the command line, you'll get something like this:\n",
    "![](Streamlit_Run_HelloWorld.png \"Title\")"
   ]
  },
  {
   "cell_type": "markdown",
   "metadata": {},
   "source": [
    "And soon your browser will pop up with your first shiny Web App!\n",
    "![](Streamlit_HelloWorldApp_50.png \"Title\")"
   ]
  },
  {
   "cell_type": "markdown",
   "metadata": {},
   "source": [
    "As you can see, the App opens automatically in your broaswer using `localhost:8501` port. \n",
    "\n",
    "To see the full configuration file, you can type `streamlit config show` and a long config file will appear in your screen showing the default settings for the App. Among others you'll see these:\n",
    "\n",
    "![](Streamlit_port.png \"Title\")"
   ]
  },
  {
   "cell_type": "markdown",
   "metadata": {},
   "source": [
    "### Animations"
   ]
  },
  {
   "cell_type": "markdown",
   "metadata": {},
   "source": [
    "Now that we're equipped with the basics, lets go one step further. Lets try plotting and why keep it simple, lets do animations!"
   ]
  },
  {
   "cell_type": "markdown",
   "metadata": {},
   "source": [
    "Below, I've used a simple script to test animations by plotting randomly generated data points using matplotlib library:"
   ]
  },
  {
   "cell_type": "markdown",
   "metadata": {},
   "source": [
    "```\n",
    "import matplotlib.pyplot as plt\n",
    "import numpy as np\n",
    "import streamlit as st\n",
    "import time\n",
    "\n",
    "\n",
    "st.title('Fun Streamlit Plotting App')\n",
    "\n",
    "st.write('Animating random data points')\n",
    "fig, ax = plt.subplots()\n",
    "max_x = 5\n",
    "max_rand = 10\n",
    "\n",
    "x = np.arange(0, max_x)\n",
    "ax.set_ylim(0, max_rand)\n",
    "line, = ax.plot(x, np.random.randint(0, max_rand, max_x))\n",
    "my_plot = st.pyplot(plt)\n",
    "\n",
    "def init():  # create an empty plot\n",
    "    line.set_ydata([np.nan] * len(x))\n",
    "\n",
    "def animate(i):  # calculate and update values on the y axis\n",
    "    line.set_ydata(np.random.randint(0, max_rand, max_x))\n",
    "    my_plot.pyplot(plt)\n",
    "\n",
    "\n",
    "init()\n",
    "for i in range(50):\n",
    "    animate(i)\n",
    "    time.sleep(0.1)\n",
    "\n",
    "```"
   ]
  },
  {
   "cell_type": "markdown",
   "metadata": {},
   "source": [
    "Then by saving the file as `testPlotting.py` and running it, you will get the following popping up in your browser:\n"
   ]
  },
  {
   "cell_type": "markdown",
   "metadata": {},
   "source": [
    "![](Streamlit_Animation_50.png \"Title\")"
   ]
  },
  {
   "cell_type": "markdown",
   "metadata": {},
   "source": [
    "To see the full animation, I've deployed this App as a live Demo here: \n",
    "https://share.streamlit.io/etzimopoulos/streamlit-sandbox/testPlotting.py"
   ]
  },
  {
   "cell_type": "markdown",
   "metadata": {},
   "source": [
    "### Other Streamlit Apps"
   ]
  },
  {
   "cell_type": "markdown",
   "metadata": {},
   "source": [
    "There's so many Apps you can use Streamlit for, and the Community has been very creative. Here you'll find some of the Apps submitted by people just like you (soon, yes you've got it!) and me:\n",
    "https://discuss.streamlit.io/c/streamlit-examples/9\n",
    "\n",
    "Thank you for reading thus far. Hopefully you're already thinking about how to get started with your own App by now!\n",
    "\n",
    "\n",
    "Feel free to connect at https://www.linkedin.com/in/etzimopoulos/ and say hello, or ask any questions."
   ]
  },
  {
   "cell_type": "markdown",
   "metadata": {},
   "source": [
    "### About Me\n",
    "![](angelo_pixel_25.png \"Title\")\n",
    "I’m a freelance Principal Management Consultant and applied Data Scientist with broad experience implementing Data Analytics solutions, Digital  Transformation and Technology Change for Vendors and Global Banks in Financial Services and Government.\n",
    "\n",
    "Coming from a solid academic background in Robotics Engineering, skills like mathematics, statistics and programming (luckily) came off the shelve for me, also coupled with the genuinely curious, analytical and inquisitive thinking of an Engineer.\n",
    "\n",
    "This unique blend of technical skills and industry experience have allowed me to work with a broad range of Clients, helping bridge the gaps between their Business and Technical teams and bring critical projects over the line thus delivering great value add to their organisation."
   ]
  },
  {
   "cell_type": "code",
   "execution_count": null,
   "metadata": {},
   "outputs": [],
   "source": []
  }
 ],
 "metadata": {
  "celltoolbar": "Raw Cell Format",
  "kernelspec": {
   "display_name": "Python 3",
   "language": "python",
   "name": "python3"
  },
  "language_info": {
   "codemirror_mode": {
    "name": "ipython",
    "version": 3
   },
   "file_extension": ".py",
   "mimetype": "text/x-python",
   "name": "python",
   "nbconvert_exporter": "python",
   "pygments_lexer": "ipython3",
   "version": "3.7.6"
  }
 },
 "nbformat": 4,
 "nbformat_minor": 4
}
