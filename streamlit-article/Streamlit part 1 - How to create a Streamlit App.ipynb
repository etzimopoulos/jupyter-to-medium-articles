{
 "cells": [
  {
   "cell_type": "markdown",
   "metadata": {},
   "source": [
    "# How to create a Streamlit App for your Machine Learning Model"
   ]
  },
  {
   "cell_type": "markdown",
   "metadata": {},
   "source": [
    "## Streamlit Series - Part I"
   ]
  },
  {
   "cell_type": "markdown",
   "metadata": {},
   "source": [
    "### Introduction\n",
    "Streamlit is an open-source Python library that makes it easy to build and deploy Web apps for Machine Learning and Data Science projects. The company is lead by ex Google, Google X and Twitter employees and recently in June 2020 announced a $21m Series A funding! By the end of 2019 there were over 200,000 apps build by the community which saw the potential and benefits of being able to deploy models and visualising data without having to be an application developer!"
   ]
  },
  {
   "cell_type": "markdown",
   "metadata": {},
   "source": [
    "### Prerequisites & libraries\n",
    "\n",
    "Before we start, lets make sure we have what we need to. What we're not going to cover in this article and will assume you have already setup in your system are:\n",
    "* Python 3.7 environment\n",
    "* Linux command line (though should be very similar using Windows Powershell)"
   ]
  },
  {
   "cell_type": "markdown",
   "metadata": {},
   "source": [
    "#### Streamlit library\n",
    "To install the Streamlit library simply type the following Using Linux CLI:\n",
    "\n",
    "`pip install streamlit`\n"
   ]
  },
  {
   "cell_type": "markdown",
   "metadata": {},
   "source": [
    "### Directory\n",
    "Create a directory for all your files including the main app Python script, any other supporting script files or images/files to use e.g"
   ]
  },
  {
   "cell_type": "markdown",
   "metadata": {},
   "source": [
    "```/myApp/\n",
    ".../images/\n",
    ".../files/\n",
    "...myApp.py```"
   ]
  },
  {
   "cell_type": "markdown",
   "metadata": {},
   "source": [
    "### The App\n",
    "The streamlit app is basically a Python script file which you can run by typing the following command in the running directory:\n",
    "`streamlit run [app_name]`"
   ]
  },
  {
   "cell_type": "markdown",
   "metadata": {},
   "source": []
  },
  {
   "cell_type": "markdown",
   "metadata": {},
   "source": [
    "#### Hello World\n",
    "To start with streamlit, lets create a Hello World Application: create a new Python script file and add the following:"
   ]
  },
  {
   "cell_type": "markdown",
   "metadata": {},
   "source": [
    "``` \n",
    "# My first Streamlit App\n",
    "\n",
    "# Load Streamlit library\n",
    "import streamlit as st\n",
    "\n",
    "# Hello World\n",
    "st.title('Hello Streamlit World')\n",
    "st.header('Introduction')\n",
    "st.write(\"Hello World, this is my first Web App built using Streamlit.\")```"
   ]
  },
  {
   "cell_type": "markdown",
   "metadata": {},
   "source": [
    "Save the file as `myHelloWorld.py` and run it by typing `streamlit run myHelloWorld.py` in the command line."
   ]
  },
  {
   "cell_type": "markdown",
   "metadata": {},
   "source": []
  },
  {
   "cell_type": "markdown",
   "metadata": {},
   "source": []
  },
  {
   "cell_type": "markdown",
   "metadata": {},
   "source": []
  },
  {
   "cell_type": "markdown",
   "metadata": {},
   "source": []
  }
 ],
 "metadata": {
  "kernelspec": {
   "display_name": "Python 3",
   "language": "python",
   "name": "python3"
  },
  "language_info": {
   "codemirror_mode": {
    "name": "ipython",
    "version": 3
   },
   "file_extension": ".py",
   "mimetype": "text/x-python",
   "name": "python",
   "nbconvert_exporter": "python",
   "pygments_lexer": "ipython3",
   "version": "3.7.6"
  }
 },
 "nbformat": 4,
 "nbformat_minor": 4
}
